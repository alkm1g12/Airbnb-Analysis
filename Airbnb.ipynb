{
 "cells": [
  {
   "cell_type": "markdown",
   "metadata": {},
   "source": [
    "# Exploring the Airbnb London Listings dataset \n",
    "This jupyter notebook will start by exploring some simple questions about the types of listings in london."
   ]
  },
  {
   "cell_type": "markdown",
   "metadata": {},
   "source": [
    "Firstly, importing pandas, numpy, and the dataset."
   ]
  },
  {
   "cell_type": "code",
   "execution_count": 130,
   "metadata": {},
   "outputs": [],
   "source": [
    "import pandas as pd\n",
    "import numpy as np\n",
    "import matplotlib.pyplot as plt\n",
    "airbnb = pd.read_csv('data/listings.csv', low_memory=False, header=0)\n",
    "#list(airbnb.columns) "
   ]
  },
  {
   "cell_type": "markdown",
   "metadata": {},
   "source": [
    "Airbnb hosts can list entire homes/apartments, private or shared rooms.\n",
    "\n",
    "Private rooms are more like hotels, and a shared room more like a hostel. This could be disruptive to neighbourhoods, as Airbnb has said: 'Depending on the room type, availability, and activity, an airbnb listing could be more like a hotel, disruptive for neighbours, taking away housing, and illegal.'"
   ]
  },
  {
   "cell_type": "code",
   "execution_count": 132,
   "metadata": {
    "scrolled": true
   },
   "outputs": [
    {
     "name": "stdout",
     "output_type": "stream",
     "text": [
      "room_type\n",
      "Entire home/apt    45065\n",
      "Private room       34964\n",
      "Shared room          738\n",
      "Name: id, dtype: int64\n"
     ]
    }
   ],
   "source": [
    "airbnb_room_type = airbnb.groupby(['room_type']).count()['id']\n",
    "print(airbnb_room_type)"
   ]
  },
  {
   "cell_type": "markdown",
   "metadata": {},
   "source": [
    "We therefore get, a count of 45065 for entire home or appartment, 34964 for Private Room, and 738 for share rooms. \n",
    "\n",
    "But it would be useful to know the proportion of these that are of each category. "
   ]
  },
  {
   "cell_type": "code",
   "execution_count": 133,
   "metadata": {
    "scrolled": true
   },
   "outputs": [
    {
     "name": "stdout",
     "output_type": "stream",
     "text": [
      "room_type\n",
      "Entire home/apt    0.557963\n",
      "Private room       0.432900\n",
      "Shared room        0.009137\n",
      "Name: id, dtype: float64\n"
     ]
    }
   ],
   "source": [
    "percent_room_type = airbnb_room_type/(airbnb['room_type'].count())\n",
    "print(percent_room_type)"
   ]
  },
  {
   "cell_type": "markdown",
   "metadata": {},
   "source": [
    "We therefore see that the largest proportion of listings, 56% are for entire home of apartments, followed by 43% of the listings that are for private rooms, and finally 1% of the listings that are for shared rooms. \n",
    "\n",
    "Other important information, include the fact that Airbnb, has stated that: 'Entire homes or apartments highly available year-round for tourists, probably don't have the owner present, could be illegal, and more importantly, are displacing residents.' It would be interesting to observe, how many of the listings are available all year round, and what room type these often are. Airbnb \n",
    "\n",
    "availability_365 is the column name\n",
    "\n",
    "Low availability 0-60 days a year\n",
    "Mediam availability 60-90 days a year\n",
    "High availability 90-365 days a year (defined by Airbnb). "
   ]
  },
  {
   "cell_type": "code",
   "execution_count": 141,
   "metadata": {},
   "outputs": [
    {
     "name": "stdout",
     "output_type": "stream",
     "text": [
      "Total Number of Listings: 80767\n",
      "Low availability: 40557Percentage: 0.5021481545680786\n",
      "Medium availability: 6958Percentage: 0.08614904602127106\n",
      "High availability: 33252Percentage: 0.4117027994106504\n"
     ]
    }
   ],
   "source": [
    "# calculate what percentage/count of listings are \n",
    "# highly avialable > 90 days. \n",
    "listings = airbnb['id'].count()\n",
    "\n",
    "print(\"Total Number of Listings: \" + str(listings))\n",
    "\n",
    "availability_low = airbnb[airbnb['availability_365'] <= 60]['id']\n",
    "availability_medium = airbnb[(airbnb['availability_365'] <= 90) &\n",
    "                                (airbnb['availability_365'] > 60)]['id']\n",
    "availability_high = airbnb[airbnb['availability_365'] > 90]['id']\n",
    "\n",
    "print(\"Low availability: \" + str(availability_low.count()) + \"Percentage: \" + str((availability_low.count())/listings))\n",
    "print(\"Medium availability: \" + str(availability_medium.count()) + \"Percentage: \" + str((availability_medium.count())/listings))\n",
    "print(\"High availability: \" + str(availability_high.count()) + \"Percentage: \" + str((availability_high.count())/listings))\n",
    "\n"
   ]
  },
  {
   "cell_type": "code",
   "execution_count": null,
   "metadata": {},
   "outputs": [],
   "source": [
    "#calculate the percentage of each room type that has each type of availability. "
   ]
  },
  {
   "cell_type": "code",
   "execution_count": 73,
   "metadata": {},
   "outputs": [],
   "source": [
    "#Will need this later on, when I want to do visualisations \n",
    "#about other parts of the data etc.\n",
    "\n",
    "\n",
    "airbnb_entire = airbnb[airbnb.room_type == 'Entire home/apt']\n",
    "airbnb_private = airbnb[airbnb.room_type == 'Private room']\n",
    "airbnb_shared = airbnb[airbnb.room_type == 'Shared room']"
   ]
  }
 ],
 "metadata": {
  "kernelspec": {
   "display_name": "Python 3",
   "language": "python",
   "name": "python3"
  },
  "language_info": {
   "codemirror_mode": {
    "name": "ipython",
    "version": 3
   },
   "file_extension": ".py",
   "mimetype": "text/x-python",
   "name": "python",
   "nbconvert_exporter": "python",
   "pygments_lexer": "ipython3",
   "version": "3.7.3"
  }
 },
 "nbformat": 4,
 "nbformat_minor": 2
}
