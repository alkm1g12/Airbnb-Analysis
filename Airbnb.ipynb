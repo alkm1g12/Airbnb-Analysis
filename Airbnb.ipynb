{
 "cells": [
  {
   "cell_type": "markdown",
   "metadata": {},
   "source": [
    "# Exploring the Airbnb London Listings dataset \n",
    "This jupyter notebook will start by exploring some simple questions about the types of listings in london."
   ]
  },
  {
   "cell_type": "markdown",
   "metadata": {},
   "source": [
    "Firstly, importing pandas, numpy, and the dataset."
   ]
  },
  {
   "cell_type": "code",
   "execution_count": 281,
   "metadata": {},
   "outputs": [],
   "source": [
    "import pandas as pd\n",
    "import numpy as np\n",
    "import matplotlib.pyplot as plt\n",
    "airbnb = pd.read_csv('data/listings.csv', low_memory=False, header=0)\n",
    "#list(airbnb.columns) "
   ]
  },
  {
   "cell_type": "markdown",
   "metadata": {},
   "source": [
    "Airbnb hosts can list entire homes/apartments, private or shared rooms.\n",
    "\n",
    "Private rooms are more like hotels, and a shared room more like a hostel. This could be disruptive to neighbourhoods, as Airbnb has said: 'Depending on the room type, availability, and activity, an airbnb listing could be more like a hotel, disruptive for neighbours, taking away housing, and illegal.'"
   ]
  },
  {
   "cell_type": "code",
   "execution_count": 282,
   "metadata": {
    "scrolled": true
   },
   "outputs": [
    {
     "name": "stdout",
     "output_type": "stream",
     "text": [
      "room_type\n",
      "Entire home/apt    45065\n",
      "Private room       34964\n",
      "Shared room          738\n",
      "Name: id, dtype: int64\n"
     ]
    }
   ],
   "source": [
    "airbnb_room_type = airbnb.groupby(['room_type']).count()['id']\n",
    "print(airbnb_room_type)"
   ]
  },
  {
   "cell_type": "markdown",
   "metadata": {},
   "source": [
    "We therefore get, a count of 45065 for entire home or appartment, 34964 for Private Room, and 738 for share rooms. \n",
    "\n",
    "But it would be useful to know the proportion of these that are of each category. "
   ]
  },
  {
   "cell_type": "code",
   "execution_count": 283,
   "metadata": {
    "scrolled": true
   },
   "outputs": [
    {
     "name": "stdout",
     "output_type": "stream",
     "text": [
      "room_type\n",
      "Entire home/apt    0.557963\n",
      "Private room       0.432900\n",
      "Shared room        0.009137\n",
      "Name: id, dtype: float64\n"
     ]
    }
   ],
   "source": [
    "percent_room_type = airbnb_room_type/(airbnb['room_type'].count())\n",
    "print(percent_room_type)"
   ]
  },
  {
   "cell_type": "markdown",
   "metadata": {},
   "source": [
    "We therefore see that the largest proportion of listings, 56% are for entire home of apartments, followed by 43% of the listings that are for private rooms, and finally 1% of the listings that are for shared rooms. \n",
    "\n",
    "Other important information, include the fact that Airbnb, has stated that: 'Entire homes or apartments highly available year-round for tourists, probably don't have the owner present, could be illegal, and more importantly, are displacing residents.' It would be interesting to observe, how many of the listings are available all year round, and what room type these often are. Airbnb define the following goupings based on the level of availability the listing has: \n",
    "\n",
    "- Low availability 0-60 days a year\n",
    "- Medium availability 60-90 days a year\n",
    "- High availability 90-365 days a year\n",
    "\n",
    "This next section will work out the percentage of the listings that fall into each of these categories. "
   ]
  },
  {
   "cell_type": "code",
   "execution_count": 284,
   "metadata": {},
   "outputs": [
    {
     "name": "stdout",
     "output_type": "stream",
     "text": [
      "Total Number of Listings: 80767\n",
      "Low Availability Count: 40557\n",
      "Medium Availability Count: 6958\n",
      "High Availability Count: 33252\n",
      "Low Availability Percent: 40557\n",
      "Medium Availability Percent: 6958\n",
      "High Availability Percent: 33252\n"
     ]
    }
   ],
   "source": [
    "# calculate what percentage/count of listings are \n",
    "# highly avialable > 90 days. \n",
    "listings = airbnb['id'].count()\n",
    "availability = airbnb['availability_365']\n",
    "availability_count = availability.count()\n",
    "\n",
    "print(\"Total Number of Listings: \" + str(listings))\n",
    "\n",
    "def get_availability(x):\n",
    "    return airbnb[x]['id']\n",
    "\n",
    "availability_low = get_availability(availability <= 60)\n",
    "availability_medium = get_availability((availability <= 90) & (availability > 60))\n",
    "availability_high = get_availability(availability > 90)\n",
    "\n",
    "print(\"Low Availability Count:\", str(availability_low.count()))\n",
    "print(\"Medium Availability Count:\", str(availability_medium.count()))\n",
    "print(\"High Availability Count:\", str(availability_high.count()))\n",
    "\n",
    "def calculate_percent(x):\n",
    "    x = x/listings\n",
    "    return x\n",
    "\n",
    "print(\"Low Availability Percent:\", str(calculate_percent(availability_low).count()))\n",
    "print(\"Medium Availability Percent:\", str(calculate_percent(availability_medium).count()))\n",
    "print(\"High Availability Percent:\", str(calculate_percent(availability_high).count()))\n",
    "     "
   ]
  },
  {
   "cell_type": "markdown",
   "metadata": {},
   "source": [
    "Scatter plot, to see if there is any clustering, as in is one type of room more likely to be at one end of the graph (e.g. is shared room less availabile, than a private room etc.)"
   ]
  },
  {
   "cell_type": "code",
   "execution_count": 285,
   "metadata": {
    "scrolled": true
   },
   "outputs": [
    {
     "data": {
      "text/plain": [
       "<matplotlib.collections.PathCollection at 0x12cfced68>"
      ]
     },
     "execution_count": 285,
     "metadata": {},
     "output_type": "execute_result"
    },
    {
     "data": {
      "image/png": "[encoded data removed]",
      "text/plain": [
       "<Figure size 432x288 with 1 Axes>"
      ]
     },
     "metadata": {
      "needs_background": "light"
     },
     "output_type": "display_data"
    }
   ],
   "source": [
    "plt.scatter(airbnb['room_type'], availability)"
   ]
  },
  {
   "cell_type": "markdown",
   "metadata": {},
   "source": [
    "We don't see much in the scatter plot. Maybe some grouping in 'Shared room', but all the others appear to have continuous availabiity. \n",
    "\n",
    "We can check this statistically, and see what percentage of each room type, entire/private/shared that fall into each of the availability categories. If high avialability on differnet room types may cause different amounts of disturbance for the local neighbourhoods. High vailability on entire listing could lead to a lack of housing avialability, and high avialability of private rooms may lead to a business in a hotel style enviroment. "
   ]
  },
  {
   "cell_type": "code",
   "execution_count": 288,
   "metadata": {
    "scrolled": false
   },
   "outputs": [
    {
     "name": "stdout",
     "output_type": "stream",
     "text": [
      "Percentage of room type for each availability.\n",
      "Entire home/apt - low: 0.5218018417840896\n",
      "Entire home/apt - medium: 0.06858981471208254\n",
      "Entire home/apt - high: 0.4096083435038278\n",
      "Private room - low: 0.47943599130534265\n",
      "Private room - medium: 0.108254204324448\n",
      "Private room - high: 0.41230980437020937\n",
      "Shared room - low: 0.3780487804878049\n",
      "Shared room - medium: 0.1111111111111111\n",
      "Shared room - high: 0.510840108401084\n"
     ]
    }
   ],
   "source": [
    "#calculate the percentage of each room type that has each type of availability\n",
    "\n",
    "def percent_availability(roomtype, availability):\n",
    "    all_listings = airbnb[airbnb.room_type == roomtype]\n",
    "    filtered_listings = all_listings[all_listings['id'].isin(availability)]['id']\n",
    "    return (filtered_listings.count()/all_listings.count())['id']\n",
    "\n",
    "def print_percent_availability(roomtype, availability, availability_label):\n",
    "    percentage = percent_availability(roomtype, availability)\n",
    "    print(roomtype + ' - ' + availability_label + ': ' + str(percentage))\n",
    "    \n",
    "print('Percentage of room type for each availability.')\n",
    "\n",
    "print_percent_availability('Entire home/apt', availability_low, 'low')\n",
    "print_percent_availability('Entire home/apt', availability_medium, 'medium')\n",
    "print_percent_availability('Entire home/apt', availability_high, 'high')\n",
    "print_percent_availability('Private room', availability_low, 'low')\n",
    "print_percent_availability('Private room', availability_medium, 'medium')\n",
    "print_percent_availability('Private room', availability_high, 'high')\n",
    "print_percent_availability('Shared room', availability_low, 'low')\n",
    "print_percent_availability('Shared room', availability_medium, 'medium')\n",
    "print_percent_availability('Shared room', availability_high, 'high')\n"
   ]
  },
  {
   "cell_type": "markdown",
   "metadata": {},
   "source": [
    "This data would be easier to visualise in a stacked bar graph, visualised below. "
   ]
  },
  {
   "cell_type": "code",
   "execution_count": 298,
   "metadata": {},
   "outputs": [
    {
     "data": {
      "image/png": "[encoded data removed]",
      "text/plain": [
       "<Figure size 432x288 with 1 Axes>"
      ]
     },
     "metadata": {
      "needs_background": "light"
     },
     "output_type": "display_data"
    }
   ],
   "source": [
    "room_types = ['Entire home/apt', 'Private Room', 'Shared room']\n",
    "low_availability_values = np.array([percent_availability('Entire home/apt', availability_low), \n",
    "                           percent_availability('Private room', availability_low),\n",
    "                           percent_availability('Shared room', availability_low)])\n",
    "medium_availability_values = np.array([percent_availability('Entire home/apt', availability_medium),\n",
    "                              percent_availability('Private room', availability_medium),\n",
    "                              percent_availability('Shared room', availability_medium)])\n",
    "high_availability_values = np.array([percent_availability('Entire home/apt', availability_high),\n",
    "                            percent_availability('Private room', availability_high), \n",
    "                            percent_availability('Shared room', availability_high)])\n",
    "\n",
    "ind = [x for x, _ in enumerate(room_types)]\n",
    "\n",
    "plt.bar(ind, low_availability_values, width=0.6, label='Low', color='#4169E1', bottom=medium_availability_values+high_availability_values)\n",
    "plt.bar(ind, medium_availability_values, width=0.6, label='Medium', color='#e1ae41', bottom=high_availability_values)\n",
    "plt.bar(ind, high_availability_values, width=0.6, label='High', color='#e15f41')\n",
    "\n",
    "plt.ylabel('Percentage')\n",
    "plt.xlabel('Room types')\n",
    "plt.title('Percentage of each room type against each availability')\n",
    "\n",
    "plt.xticks(ind, room_types)\n",
    "plt.legend(loc='upper right')\n",
    "plt.show()"
   ]
  },
  {
   "cell_type": "markdown",
   "metadata": {},
   "source": [
    "Want to know if high availability properties effect the availability of housing in certain post-code zones in london. \n",
    "\n",
    "--- so first see which post code zones have high availability of entire home/apt. \n",
    "--- then are these post code areas affecting the availability of housing. "
   ]
  },
  {
   "cell_type": "code",
   "execution_count": 325,
   "metadata": {},
   "outputs": [
    {
     "name": "stdout",
     "output_type": "stream",
     "text": [
      "AL3       1\n",
      "BN3       1\n",
      "BR1     133\n",
      "BR2      75\n",
      "BR3     110\n",
      "BR35      1\n",
      "BR4       9\n",
      "BR49      1\n",
      "BR5     108\n",
      "BR6      36\n",
      "BR7      18\n",
      "BT15      1\n",
      "CR0     450\n",
      "CR01      1\n",
      "CR02      4\n",
      "CR06      1\n",
      "CR07      2\n",
      "CR08      1\n",
      "CR2      81\n",
      "CR4     164\n",
      "CR43      1\n",
      "CR5      30\n",
      "CR7     127\n",
      "CR8      51\n",
      "CR9      10\n",
      "CV34      1\n",
      "DA1       5\n",
      "DA14     21\n",
      "DA15     19\n",
      "DA16     21\n",
      "       ... \n",
      "W67       2\n",
      "W69       2\n",
      "W7      108\n",
      "W72       2\n",
      "W73       1\n",
      "W8      589\n",
      "W84       2\n",
      "W86       3\n",
      "W87       1\n",
      "W9      943\n",
      "W91       3\n",
      "W93       4\n",
      "WC1       3\n",
      "WC15      6\n",
      "WC1A     88\n",
      "WC1B     40\n",
      "WC1E     59\n",
      "WC1H    239\n",
      "WC1N    253\n",
      "WC1R     45\n",
      "WC1V     26\n",
      "WC1X    327\n",
      "WC2       4\n",
      "WC2A     19\n",
      "WC2B    135\n",
      "WC2E    115\n",
      "WC2H    259\n",
      "WC2N    122\n",
      "WC2R     97\n",
      "WD6       2\n",
      "Name: id, Length: 463, dtype: int64\n"
     ]
    }
   ],
   "source": [
    "import re\n",
    "\n",
    "postcode_area_regex = re.compile(\"(?P<zipcode>[A-Z]{1,2}\\d[A-Z\\d]?)\")\n",
    "\n",
    "def GroupColFunc(df, ind, col):\n",
    "    result = postcode_area_regex.search(str(df[col].loc[ind]))\n",
    "    \n",
    "    if result is None:\n",
    "        return \"Unknown\"\n",
    "    \n",
    "    return result.group(1)\n",
    "\n",
    "# print(airbnb['zipcode'].loc[0])\n",
    "\n",
    "# postcodes = airbnb['zipcode'].str.extract(r'(?P<zipcode>[A-Z]{1,2}\\d[A-Z\\d]?)')\n",
    "\n",
    "airbnb_zipcode_area = airbnb.groupby(lambda x: GroupColFunc(airbnb, x, 'zipcode')).count()['id']\n",
    "\n",
    "print(airbnb_zipcode_area)"
   ]
  },
  {
   "cell_type": "code",
   "execution_count": null,
   "metadata": {},
   "outputs": [],
   "source": []
  }
 ],
 "metadata": {
  "kernelspec": {
   "display_name": "Python 3",
   "language": "python",
   "name": "python3"
  },
  "language_info": {
   "codemirror_mode": {
    "name": "ipython",
    "version": 3
   },
   "file_extension": ".py",
   "mimetype": "text/x-python",
   "name": "python",
   "nbconvert_exporter": "python",
   "pygments_lexer": "ipython3",
   "version": "3.7.3"
  }
 },
 "nbformat": 4,
 "nbformat_minor": 2
}
